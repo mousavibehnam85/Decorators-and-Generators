{
 "cells": [
  {
   "cell_type": "code",
   "execution_count": 3,
   "id": "37240686-b040-4cdc-9fe7-dc8eb22744ce",
   "metadata": {},
   "outputs": [
    {
     "name": "stdout",
     "output_type": "stream",
     "text": [
      "Custom generator: [0, 1, 2, 3, 4]\n",
      "Generator expression: [0, 1, 2, 3, 4]\n",
      "Function executed.\n",
      "Execution time of 'some_function': 1.9991521835327148 seconds\n"
     ]
    }
   ],
   "source": [
    "###creating decorators, understanding generator functions, employing generator expressions, and applying both in-built -  \n",
    "### - and custom decorators to functions.\n",
    "\n",
    "# Creating Decorators:  Implement custom decorators that modify the behavior of other functions.\n",
    "#Use decorators for logging, timing functions, etc.\n",
    "\n",
    "# Understanding Generators:  Develop generator functions using yield to produce sequences lazily\n",
    "\n",
    "# Generator Expressions: Utilize generator expressions for concise creation of generators\n",
    "\n",
    "# Using Decorators: Apply both in-built decorators (e.g., @property, @staticmethod) and custom decorators to functions for specific functionalities.\n",
    "\n",
    "import time\n",
    "\n",
    "# Custom decorator to measure execution time\n",
    "def measure_time(func):\n",
    "    def wrapper(*args, **kwargs): #encapsulate the modifications or additional behavior that needs to be applied to the original function\n",
    "        start_time = time.time() #retrieves the current time when executed and assigns it to the variable start_time\n",
    "        result = func(*args, **kwargs)\n",
    "#is used to call another function (func) by unpacking the arguments (*args) and keyword arguments (**kwargs) dynamically.\n",
    "        \n",
    "        end_time = time.time()\n",
    "        print(f\"Execution time of '{func.__name__}': {end_time - start_time} seconds\")\n",
    "        return result\n",
    "    return wrapper\n",
    "\n",
    "# Custom generator function using yield\n",
    "def custom_generator(limit):\n",
    "    num = 0\n",
    "    while num < limit:\n",
    "        yield num\n",
    "        num += 1\n",
    "\n",
    "# Example of a generator expression\n",
    "generator_expr = (x for x in range(5))\n",
    "\n",
    "# Applying the custom decorator to a function\n",
    "@measure_time #we will go to measure time, then execute the arguments of this wrapper, then the rest of function wrapper inside measure_time function\n",
    "def some_function():\n",
    "    # Simulating some computation\n",
    "    time.sleep(2) #will cause the program to sleep or wait for 2 seconds before resuming further execution\n",
    "    print(\"Function executed.\")\n",
    "\n",
    "# Example usage:\n",
    "if __name__ == \"__main__\":\n",
    "    # Using the custom generator\n",
    "    gen = custom_generator(5)\n",
    "    print(\"Custom generator:\", list(gen))\n",
    "# I believe since we doen't return any value to custom_generator we need to list whatever happens in it.\n",
    "    \n",
    "    # Using the generator expression\n",
    "    print(\"Generator expression:\", list(generator_expr))\n",
    "\n",
    "    # Executing the decorated function\n",
    "    some_function()"
   ]
  },
  {
   "cell_type": "code",
   "execution_count": null,
   "id": "fc9d841d-3378-456d-91d1-ac64137a496c",
   "metadata": {},
   "outputs": [],
   "source": []
  }
 ],
 "metadata": {
  "kernelspec": {
   "display_name": "Python 3 (ipykernel)",
   "language": "python",
   "name": "python3"
  },
  "language_info": {
   "codemirror_mode": {
    "name": "ipython",
    "version": 3
   },
   "file_extension": ".py",
   "mimetype": "text/x-python",
   "name": "python",
   "nbconvert_exporter": "python",
   "pygments_lexer": "ipython3",
   "version": "3.12.0"
  }
 },
 "nbformat": 4,
 "nbformat_minor": 5
}
